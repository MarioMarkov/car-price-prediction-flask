{
  "nbformat": 4,
  "nbformat_minor": 0,
  "metadata": {
    "colab": {
      "provenance": [],
      "mount_file_id": "1o3BONW2Wm7l_7swxNlSMQWNe-dSfBMnF",
      "authorship_tag": "ABX9TyMMIyzgfeZ3GqBUpamB2IkY",
      "include_colab_link": true
    },
    "kernelspec": {
      "name": "python3",
      "display_name": "Python 3"
    },
    "language_info": {
      "name": "python"
    },
    "accelerator": "TPU",
    "gpuClass": "standard"
  },
  "cells": [
    {
      "cell_type": "markdown",
      "metadata": {
        "id": "view-in-github",
        "colab_type": "text"
      },
      "source": [
        "<a href=\"https://colab.research.google.com/github/MarioMarkov/cars_predict_web/blob/master/cars_predict_tf_tidy.ipynb\" target=\"_parent\"><img src=\"https://colab.research.google.com/assets/colab-badge.svg\" alt=\"Open In Colab\"/></a>"
      ]
    },
    {
      "cell_type": "code",
      "execution_count": null,
      "metadata": {
        "cellView": "form",
        "id": "WV5VDLSBmzgs"
      },
      "outputs": [],
      "source": [
        "#@title Load libraries\n",
        "import pandas as pd \n",
        "import tensorflow as tf\n",
        "import numpy as np\n",
        "\n",
        "pd.options.display.float_format = '{:.10f}'.format"
      ]
    },
    {
      "cell_type": "code",
      "source": [
        "#@title Load data\n",
        "data = pd.read_csv('/content/drive/MyDrive/cars_predict/cars-data3.csv', index_col=None)\n",
        "test_pred = pd.read_csv('/content/drive/MyDrive/cars_predict/test-data.csv',  index_col=None)\n",
        "\n",
        "data = data.drop(['id'],axis='columns')\n",
        "\n",
        "data = data.drop(['euro'],axis='columns')\n",
        "test_pred = test_pred.drop(['euro'],axis='columns')"
      ],
      "metadata": {
        "cellView": "form",
        "id": "OWopZfm2m-Et"
      },
      "execution_count": null,
      "outputs": []
    },
    {
      "cell_type": "code",
      "source": [
        "#@title Clean data 🧹 \n",
        "\n",
        "print(\"Old Shape before cleaning: \", data.shape)\n",
        "\n",
        "def clean_data(data):\n",
        "\n",
        "  # Remove brands that are seen less than 200 times\n",
        "  data = data.groupby('brand').filter(lambda x :len(x)>200)\n",
        "\n",
        "  #Format BMW model\n",
        "  def format_bmw_model(model_name):\n",
        "    if 'X' in model_name or 'i' in model_name:\n",
        "      return model_name\n",
        "    return model_name[0]\n",
        "\n",
        "  # Trim model to just 1 letter except if it is X or i ex.(318 to 3)\n",
        "  data.loc[data['brand'] == 'BMW', ['model']] = data[data.brand == 'BMW'].model.apply(lambda x: format_bmw_model(x))\n",
        "\n",
        "  # Remove models that are met less than 9 times\n",
        "  data = data.groupby('model').filter(lambda x :len(x)>20)\n",
        "\n",
        "  # Remove years that are met less than 10 times\n",
        "  data = data.groupby('year').filter(lambda x :len(x)>10)\n",
        "\n",
        "  #data.dropna(how=\"any\", axis=0, inplace=True)\n",
        "\n",
        "  # TODO this removes missing values \n",
        "  data = data[(data.hp >30) & (data.hp < 480)]\n",
        "  data = data[(data.price >100) & (data.price < 60000)]\n",
        "  data = data[(data.displacement >100) & (data.displacement < 8000)]\n",
        "  data = data[(data.kms >100) & (data.kms < 1000000)]\n",
        "  data = data.dropna()\n",
        "\n",
        "  return data \n",
        "\n",
        "# Applying function\n",
        "data = clean_data(data)\n",
        "\n",
        "print(\"New Shape after cleaning: \", data.shape)\n",
        "\n",
        "# Put a flag on premium brands\n",
        "premium_brands = [\"Porsche\", \"Audi\",\"Mercedes-Benz\",\"BMW\"]\n",
        "\n",
        "data['premium'] = np.where(data['brand'].isin(premium_brands), 1, 0)\n",
        "test_pred['premium'] = np.where(test_pred['brand'].isin(premium_brands), 1, 0)\n",
        "\n",
        "# data['new'] = np.where(data['year']>2018, 1, 0)\n",
        "# test_pred['new'] = np.where(test_pred['year']>2018, 1, 0)\n",
        "\n",
        "def make_buckets(df):\n",
        "  bins = [0,50000, 100000, 150000,200000,250000,300000,400000,500000,600000]\n",
        "  labels = [1,2,3,4,5,6,7,8,9]\n",
        "  df['kms'] = pd.cut(x = df['kms'], \n",
        "                     bins = bins,\n",
        "                     labels = labels,\n",
        "                     include_lowest = True)\n",
        "  return df\n",
        "data = make_buckets(data)\n",
        "test = make_buckets(test_pred)\n",
        "data = data.dropna()\n",
        "\n",
        "data[\"kms\"] = data[\"kms\"].astype(\"int32\")\n",
        "test[\"kms\"] = test[\"kms\"].astype(\"int32\")\n",
        "\n",
        "numerics = ['int16', 'int32', 'int64', 'float16', 'float32', 'float64']\n",
        "# Select columns with 'float64' dtype  \n",
        "numeric_cols = list(data.select_dtypes(include=numerics))\n",
        "\n",
        "# The same code again calling the columns\n",
        "data[numeric_cols] = data[numeric_cols].astype('float32')\n",
        "\n",
        "\n",
        "print(data.describe())\n",
        "\n",
        "# How many missing values per column \n",
        "(data.isnull().sum())\n",
        "data.to_csv('cars-data_index.csv', index=True)"
      ],
      "metadata": {
        "colab": {
          "base_uri": "https://localhost:8080/"
        },
        "cellView": "form",
        "id": "sBZqxjmGnapo",
        "outputId": "78dedb27-2011-4a66-e790-2b218da42ca6"
      },
      "execution_count": null,
      "outputs": [
        {
          "output_type": "stream",
          "name": "stdout",
          "text": [
            "Old Shape before cleaning:  (25670, 12)\n",
            "New Shape after cleaning:  (18799, 12)\n"
          ]
        },
        {
          "output_type": "stream",
          "name": "stderr",
          "text": [
            "<ipython-input-66-0768fa38a36b>:62: SettingWithCopyWarning: \n",
            "A value is trying to be set on a copy of a slice from a DataFrame.\n",
            "Try using .loc[row_indexer,col_indexer] = value instead\n",
            "\n",
            "See the caveats in the documentation: https://pandas.pydata.org/pandas-docs/stable/user_guide/indexing.html#returning-a-view-versus-a-copy\n",
            "  data[\"kms\"] = data[\"kms\"].astype(\"int32\")\n",
            "<ipython-input-66-0768fa38a36b>:70: SettingWithCopyWarning: \n",
            "A value is trying to be set on a copy of a slice from a DataFrame.\n",
            "Try using .loc[row_indexer,col_indexer] = value instead\n",
            "\n",
            "See the caveats in the documentation: https://pandas.pydata.org/pandas-docs/stable/user_guide/indexing.html#returning-a-view-versus-a-copy\n",
            "  data[numeric_cols] = data[numeric_cols].astype('float32')\n"
          ]
        },
        {
          "output_type": "stream",
          "name": "stdout",
          "text": [
            "                  year              kms     transmission            2door  \\\n",
            "count 18795.0000000000 18795.0000000000 18795.0000000000 18795.0000000000   \n",
            "mean   2008.2409667969     4.2332005501     0.2551210523     0.0824155360   \n",
            "std       4.9047985077     1.1936763525     0.4359408319     0.2750040591   \n",
            "min    1990.0000000000     1.0000000000     0.0000000000     0.0000000000   \n",
            "25%    2005.0000000000     4.0000000000     0.0000000000     0.0000000000   \n",
            "50%    2008.0000000000     4.0000000000     0.0000000000     0.0000000000   \n",
            "75%    2011.0000000000     5.0000000000     1.0000000000     0.0000000000   \n",
            "max    2022.0000000000     9.0000000000     1.0000000000     1.0000000000   \n",
            "\n",
            "          displacement               hp            price          premium  \n",
            "count 18795.0000000000 18795.0000000000 18795.0000000000 18795.0000000000  \n",
            "mean   1906.8477783203   131.0482635498 11497.6367187500     0.1308326721  \n",
            "std     577.5339355469    49.3135643005  9097.5136718750     0.3372262418  \n",
            "min     101.0000000000    40.0000000000   599.0000000000     0.0000000000  \n",
            "25%    1588.5000000000    97.0000000000  5500.0000000000     0.0000000000  \n",
            "50%    1900.0000000000   120.0000000000  8700.0000000000     0.0000000000  \n",
            "75%    2000.0000000000   150.0000000000 14400.0000000000     0.0000000000  \n",
            "max    6800.0000000000   450.0000000000 59999.0000000000     1.0000000000  \n"
          ]
        }
      ]
    },
    {
      "cell_type": "code",
      "source": [
        "#@title Define helper Functions\n",
        "\n",
        "def df_to_dataset(dataframe, shuffle=True, batch_size=32):\n",
        "  df = dataframe.copy()\n",
        "  labels = df.pop('price')\n",
        "  df = {key: value[:,tf.newaxis] for key, value in dataframe.items()}\n",
        "  ds = tf.data.Dataset.from_tensor_slices((dict(df), labels))\n",
        "  if shuffle:\n",
        "    ds = ds.shuffle(buffer_size=len(dataframe))\n",
        "  ds = ds.batch(batch_size)\n",
        "  ds = ds.prefetch(batch_size)\n",
        "  return ds\n",
        "\n",
        "def get_normalization_layer(name, dataset):\n",
        "  # Create a Normalization layer for the feature.\n",
        "  normalizer = tf.keras.layers.Normalization(axis=None)\n",
        "\n",
        "  # Prepare a Dataset that only yields the feature.\n",
        "  feature_ds = dataset.map(lambda x, y: x[name])\n",
        "\n",
        "  # Learn the statistics of the data.\n",
        "  normalizer.adapt(feature_ds)\n",
        "  return normalizer\n",
        "\n",
        "def get_category_encoding_layer(name, dataset, dtype, max_tokens=None):\n",
        "  # Create a layer that turns strings into integer indices.\n",
        "  if dtype == 'string':\n",
        "    index = tf.keras.layers.StringLookup(max_tokens=max_tokens)\n",
        "  # Otherwise, create a layer that turns integer values into integer indices.\n",
        "  else:\n",
        "    index = tf.keras.layers.IntegerLookup(max_tokens=max_tokens)\n",
        "\n",
        "  # Prepare a `tf.data.Dataset` that only yields the feature.\n",
        "  feature_ds = dataset.map(lambda x, y: x[name])\n",
        "\n",
        "  # Learn the set of possible values and assign them a fixed integer index.\n",
        "  index.adapt(feature_ds)\n",
        "\n",
        "  # Encode the integer indices.\n",
        "  encoder = tf.keras.layers.CategoryEncoding(num_tokens=index.vocabulary_size())\n",
        "\n",
        "  # Apply multi-hot encoding to the indices. The lambda function captures the\n",
        "  # layer, so you can use them, or include them in the Keras Functional model later.\n",
        "  return lambda feature: encoder(index(feature))\n"
      ],
      "metadata": {
        "cellView": "form",
        "id": "dAcMzQRwn5xi"
      },
      "execution_count": null,
      "outputs": []
    },
    {
      "cell_type": "code",
      "source": [
        "#@title Making tf-dataset\n",
        "# Split data\n",
        "train, val, test = np.split(data.sample(frac=1), [int(0.9*len(data)), int(0.95*len(data))])\n",
        "\n",
        "print(len(train), 'training examples')\n",
        "print(len(val), 'validation examples')\n",
        "print(len(test), 'test examples')\n",
        "\n",
        "batch_size = 64\n",
        "train_ds = df_to_dataset(train, batch_size=batch_size)\n",
        "val_ds = df_to_dataset(val, shuffle=False, batch_size=batch_size)\n",
        "test_ds = df_to_dataset(test, shuffle=False, batch_size=batch_size)"
      ],
      "metadata": {
        "colab": {
          "base_uri": "https://localhost:8080/"
        },
        "id": "DbktYYo-oD5N",
        "outputId": "6cdc2d9b-8f1a-4636-c69e-21cd7f95d6b6",
        "cellView": "form"
      },
      "execution_count": null,
      "outputs": [
        {
          "output_type": "stream",
          "name": "stdout",
          "text": [
            "16915 training examples\n",
            "940 validation examples\n",
            "940 test examples\n"
          ]
        },
        {
          "output_type": "stream",
          "name": "stderr",
          "text": [
            "<ipython-input-67-35e913b20012>:6: FutureWarning: Support for multi-dimensional indexing (e.g. `obj[:, None]`) is deprecated and will be removed in a future version.  Convert to a numpy array before indexing instead.\n",
            "  df = {key: value[:,tf.newaxis] for key, value in dataframe.items()}\n",
            "<ipython-input-67-35e913b20012>:6: FutureWarning: Support for multi-dimensional indexing (e.g. `obj[:, None]`) is deprecated and will be removed in a future version.  Convert to a numpy array before indexing instead.\n",
            "  df = {key: value[:,tf.newaxis] for key, value in dataframe.items()}\n",
            "<ipython-input-67-35e913b20012>:6: FutureWarning: Support for multi-dimensional indexing (e.g. `obj[:, None]`) is deprecated and will be removed in a future version.  Convert to a numpy array before indexing instead.\n",
            "  df = {key: value[:,tf.newaxis] for key, value in dataframe.items()}\n"
          ]
        }
      ]
    },
    {
      "cell_type": "code",
      "source": [
        "#@title Tensorflow preprocessing\n",
        "\n",
        "# Normalize numerical features\n",
        "all_inputs = []\n",
        "encoded_features = []\n",
        "columns_to_normalize = ['year','displacement','hp','kms']\n",
        "\n",
        "[(train_features, label_batch)] = train_ds.take(1)\n",
        "\n",
        "for header in columns_to_normalize:\n",
        "  # Input for feature\n",
        "  numeric_col = tf.keras.Input(shape=(1,), name=header)\n",
        "\n",
        "  # Normalization layer for feature\n",
        "  normalization_layer = get_normalization_layer(header, train_ds)\n",
        "\n",
        "  # Normalizes feature\n",
        "  encoded_numeric_col = normalization_layer(numeric_col)\n",
        "\n",
        "  # Appends to all feature\n",
        "  all_inputs.append(numeric_col)\n",
        "\n",
        "  # Appends to encoded features\n",
        "  encoded_features.append(encoded_numeric_col)\n",
        "\n",
        "\n",
        "# Encode zero-one variables\n",
        "transmission_col = tf.keras.Input(shape=(1,), dtype='int64',name= \"transmission\")\n",
        "col_2door = tf.keras.Input(shape=(1,), dtype='int64',name= \"2door\")\n",
        "premium_col = tf.keras.Input(shape=(1,), dtype='int64',name= \"premium\")\n",
        "new_col = tf.keras.Input(shape=(1,), dtype='int64',name= \"new\")\n",
        "\n",
        "encoding_layer_transmission = get_category_encoding_layer(name='transmission',\n",
        "                                             dataset=train_ds,\n",
        "                                             dtype='int64',\n",
        "                                             max_tokens=2)\n",
        "\n",
        "encoding_layer_door2 = get_category_encoding_layer(name='2door',\n",
        "                                             dataset=train_ds,\n",
        "                                             dtype='int64',\n",
        "                                             max_tokens=2)\n",
        "encoding_layer_premium = get_category_encoding_layer(name='premium',\n",
        "                                             dataset=train_ds,\n",
        "                                             dtype='int64',\n",
        "                                             max_tokens=2)\n",
        "# encoding_layer_new = get_category_encoding_layer(name='new',\n",
        "#                                              dataset=train_ds,\n",
        "#                                              dtype='int64',\n",
        "#                                              max_tokens=2)\n",
        "\n",
        "#Transmission\n",
        "encoded_transmission_col = encoding_layer_transmission(transmission_col)\n",
        "\n",
        "# Door w\n",
        "encoded_door2_col = encoding_layer_door2(col_2door)\n",
        "\n",
        "# Premium\n",
        "encoded_premium_col = encoding_layer_premium(premium_col)\n",
        "\n",
        "# New\n",
        "#encoded_new_col = encoding_layer_new(new_col)\n",
        "\n",
        "\n",
        "all_inputs.extend([transmission_col, col_2door, premium_col,\n",
        "                   #new_col \n",
        "                   ])\n",
        "\n",
        "encoded_features.extend([encoded_transmission_col,encoded_door2_col,\n",
        "                         encoded_premium_col,\n",
        "                         #encoded_new_col, \n",
        "                         ])\n",
        "\n",
        "\n",
        "# Encode string variables\n",
        "categorical_cols = ['brand', 'model','type','color','fuel']\n",
        "\n",
        "for header in categorical_cols:\n",
        "  categorical_col = tf.keras.Input(shape=(1,), name=header, dtype='string')\n",
        "  tokens = len(train[header].unique())\n",
        "  print(header, tokens)\n",
        "  encoding_layer = get_category_encoding_layer(name=header,\n",
        "                                               dataset=train_ds,\n",
        "                                               dtype='string',\n",
        "                                               max_tokens=tokens)\n",
        "  encoded_categorical_col = encoding_layer(categorical_col)\n",
        "  all_inputs.append(categorical_col)\n",
        "  encoded_features.append(encoded_categorical_col)\n",
        "\n",
        "\n",
        "all_features = tf.keras.layers.concatenate(encoded_features)\n"
      ],
      "metadata": {
        "colab": {
          "base_uri": "https://localhost:8080/"
        },
        "cellView": "form",
        "id": "xXL4hY8toH9Z",
        "outputId": "5398e7cb-f51a-4505-b817-59067bee2cb6"
      },
      "execution_count": null,
      "outputs": [
        {
          "output_type": "stream",
          "name": "stdout",
          "text": [
            "brand 29\n",
            "model 219\n",
            "type 8\n",
            "color 20\n",
            "fuel 6\n"
          ]
        }
      ]
    },
    {
      "cell_type": "code",
      "source": [
        "#@title Define model\n",
        "\n",
        "initializer = tf.keras.initializers.HeNormal(seed = 42)\n",
        "\n",
        "x_1 = tf.keras.layers.Dense(500, activation=\"relu\",kernel_initializer=initializer,\n",
        "                            bias_initializer='zeros')(all_features)\n",
        "                            \n",
        "x_2 = tf.keras.layers.Dense(300, activation=\"relu\",kernel_initializer=initializer,\n",
        "    bias_initializer='zeros')(x_1)\n",
        "\n",
        "x_3 = tf.keras.layers.Dense(200, activation=\"relu\",kernel_initializer=initializer,\n",
        "    bias_initializer='zeros')(x_2)\n",
        "#x_3 = tf.keras.layers.Dropout(0.5)(x_2)\n",
        "\n",
        "output = tf.keras.layers.Dense(1,kernel_initializer=initializer,\n",
        "    bias_initializer='zeros')(x_3)\n",
        "\n",
        "model = tf.keras.Model(all_inputs, output)\n",
        "\n",
        "loss_fn = tf.keras.losses.Huber()\n",
        "\n",
        "\n",
        "# initial_learning_rate = 0.01\n",
        "# lr_schedule = tf.keras.optimizers.schedules.ExponentialDecay(\n",
        "#     initial_learning_rate,\n",
        "#     decay_steps=250,\n",
        "#     decay_rate=0.95,\n",
        "#     staircase=True)\n",
        "\n",
        "def scheduler(epoch, lr):\n",
        "  if epoch < 7:\n",
        "    return 0.01\n",
        "  elif epoch >=8 and epoch <=15: return 0.003\n",
        "  else:\n",
        "    return 0.001\n",
        "\n",
        "callback = tf.keras.callbacks.LearningRateScheduler(scheduler)\n",
        "\n",
        "def get_lr_metric(optimizer):\n",
        "    def lr(y_true, y_pred):\n",
        "        return optimizer.lr\n",
        "    return lr\n",
        "\n",
        "optimizer = tf.keras.optimizers.Adam()\n",
        "lr_metric = get_lr_metric(optimizer)\n",
        "\n",
        "model.compile(optimizer=optimizer,\n",
        "              loss=loss_fn,\n",
        "              metrics=[tf.keras.metrics.RootMeanSquaredError()])\n",
        "\n",
        "history = model.fit(train_ds, epochs=25, validation_data=val_ds, callbacks=[callback])\n",
        "\n",
        "print(\"Evaluation error: \", model.evaluate(test_ds, verbose=2))"
      ],
      "metadata": {
        "id": "i_ut58MXoYxu",
        "colab": {
          "base_uri": "https://localhost:8080/"
        },
        "outputId": "fe733df1-781d-46f9-fc21-6e8a8e2ddac6"
      },
      "execution_count": null,
      "outputs": [
        {
          "output_type": "stream",
          "name": "stdout",
          "text": [
            "Epoch 1/25\n"
          ]
        },
        {
          "output_type": "stream",
          "name": "stderr",
          "text": [
            "/usr/local/lib/python3.10/dist-packages/keras/engine/functional.py:639: UserWarning: Input dict contained keys ['price'] which did not match any model input. They will be ignored by the model.\n",
            "  inputs = self._flatten_to_reference_inputs(inputs)\n"
          ]
        },
        {
          "output_type": "stream",
          "name": "stdout",
          "text": [
            "265/265 [==============================] - 10s 22ms/step - loss: 2771.2344 - root_mean_squared_error: 4815.8140 - val_loss: 2005.9093 - val_root_mean_squared_error: 2960.1599 - lr: 0.0100\n",
            "Epoch 2/25\n",
            "265/265 [==============================] - 4s 13ms/step - loss: 1890.7770 - root_mean_squared_error: 2955.4526 - val_loss: 1848.2769 - val_root_mean_squared_error: 2826.2314 - lr: 0.0100\n",
            "Epoch 3/25\n",
            "265/265 [==============================] - 4s 13ms/step - loss: 1804.7808 - root_mean_squared_error: 2791.5017 - val_loss: 1830.3649 - val_root_mean_squared_error: 2717.0254 - lr: 0.0100\n",
            "Epoch 4/25\n",
            "265/265 [==============================] - 6s 21ms/step - loss: 1755.1027 - root_mean_squared_error: 2723.6440 - val_loss: 1744.4296 - val_root_mean_squared_error: 2669.5679 - lr: 0.0100\n",
            "Epoch 5/25\n",
            "265/265 [==============================] - 4s 14ms/step - loss: 1757.6927 - root_mean_squared_error: 2724.0330 - val_loss: 1703.4587 - val_root_mean_squared_error: 2618.5037 - lr: 0.0100\n",
            "Epoch 6/25\n",
            "265/265 [==============================] - 4s 14ms/step - loss: 1714.9597 - root_mean_squared_error: 2673.3611 - val_loss: 1727.7836 - val_root_mean_squared_error: 2687.1831 - lr: 0.0100\n",
            "Epoch 7/25\n",
            "265/265 [==============================] - 5s 17ms/step - loss: 1642.6708 - root_mean_squared_error: 2558.7800 - val_loss: 1729.8107 - val_root_mean_squared_error: 2663.3572 - lr: 0.0100\n",
            "Epoch 8/25\n",
            "265/265 [==============================] - 5s 19ms/step - loss: 1487.5424 - root_mean_squared_error: 2370.9702 - val_loss: 1681.6790 - val_root_mean_squared_error: 2592.5071 - lr: 0.0010\n",
            "Epoch 9/25\n",
            "265/265 [==============================] - 4s 16ms/step - loss: 1476.9956 - root_mean_squared_error: 2356.2449 - val_loss: 1832.1892 - val_root_mean_squared_error: 2744.0146 - lr: 0.0030\n",
            "Epoch 10/25\n",
            "265/265 [==============================] - 5s 19ms/step - loss: 1453.8671 - root_mean_squared_error: 2327.2808 - val_loss: 1709.8508 - val_root_mean_squared_error: 2612.2334 - lr: 0.0030\n",
            "Epoch 11/25\n",
            "265/265 [==============================] - 4s 14ms/step - loss: 1435.8602 - root_mean_squared_error: 2301.1982 - val_loss: 1693.9868 - val_root_mean_squared_error: 2543.7466 - lr: 0.0030\n",
            "Epoch 12/25\n",
            "265/265 [==============================] - 6s 20ms/step - loss: 1436.6327 - root_mean_squared_error: 2300.4180 - val_loss: 1694.2438 - val_root_mean_squared_error: 2597.3376 - lr: 0.0030\n",
            "Epoch 13/25\n",
            "265/265 [==============================] - 4s 13ms/step - loss: 1406.2379 - root_mean_squared_error: 2260.3767 - val_loss: 1802.1681 - val_root_mean_squared_error: 2669.5361 - lr: 0.0030\n",
            "Epoch 14/25\n",
            "265/265 [==============================] - 4s 14ms/step - loss: 1392.0380 - root_mean_squared_error: 2242.7598 - val_loss: 1703.8262 - val_root_mean_squared_error: 2625.9099 - lr: 0.0030\n",
            "Epoch 15/25\n",
            "265/265 [==============================] - 6s 21ms/step - loss: 1375.7068 - root_mean_squared_error: 2222.1948 - val_loss: 1687.9514 - val_root_mean_squared_error: 2577.5469 - lr: 0.0030\n",
            "Epoch 16/25\n",
            "265/265 [==============================] - 4s 14ms/step - loss: 1360.0057 - root_mean_squared_error: 2209.0068 - val_loss: 1692.2672 - val_root_mean_squared_error: 2593.1079 - lr: 0.0030\n",
            "Epoch 17/25\n",
            "265/265 [==============================] - 5s 16ms/step - loss: 1297.5322 - root_mean_squared_error: 2142.1997 - val_loss: 1682.1938 - val_root_mean_squared_error: 2569.2029 - lr: 0.0010\n",
            "Epoch 18/25\n",
            "265/265 [==============================] - 5s 18ms/step - loss: 1274.0364 - root_mean_squared_error: 2119.6301 - val_loss: 1688.6492 - val_root_mean_squared_error: 2579.2112 - lr: 0.0010\n",
            "Epoch 19/25\n",
            "265/265 [==============================] - 4s 14ms/step - loss: 1263.0673 - root_mean_squared_error: 2104.7063 - val_loss: 1679.0153 - val_root_mean_squared_error: 2574.2646 - lr: 0.0010\n",
            "Epoch 20/25\n",
            "265/265 [==============================] - 4s 13ms/step - loss: 1256.2028 - root_mean_squared_error: 2102.5874 - val_loss: 1678.4197 - val_root_mean_squared_error: 2575.6628 - lr: 0.0010\n",
            "Epoch 21/25\n",
            "265/265 [==============================] - 5s 20ms/step - loss: 1243.2283 - root_mean_squared_error: 2089.6648 - val_loss: 1685.8330 - val_root_mean_squared_error: 2581.1589 - lr: 0.0010\n",
            "Epoch 22/25\n",
            "265/265 [==============================] - 4s 14ms/step - loss: 1234.4277 - root_mean_squared_error: 2076.8528 - val_loss: 1703.8506 - val_root_mean_squared_error: 2587.3171 - lr: 0.0010\n",
            "Epoch 23/25\n",
            "265/265 [==============================] - 4s 13ms/step - loss: 1226.3409 - root_mean_squared_error: 2065.5479 - val_loss: 1703.7094 - val_root_mean_squared_error: 2604.5898 - lr: 0.0010\n",
            "Epoch 24/25\n",
            "265/265 [==============================] - 6s 21ms/step - loss: 1219.0120 - root_mean_squared_error: 2061.6211 - val_loss: 1681.8402 - val_root_mean_squared_error: 2569.9001 - lr: 0.0010\n",
            "Epoch 25/25\n",
            "265/265 [==============================] - 4s 14ms/step - loss: 1212.1395 - root_mean_squared_error: 2055.2322 - val_loss: 1688.1639 - val_root_mean_squared_error: 2581.4729 - lr: 0.0010\n",
            "15/15 - 0s - loss: 1707.7322 - root_mean_squared_error: 2604.4966 - 87ms/epoch - 6ms/step\n",
            "Evaluation error:  [1707.732177734375, 2604.49658203125]\n"
          ]
        }
      ]
    },
    {
      "cell_type": "code",
      "source": [
        "import matplotlib.pyplot as plt\n",
        "hist = pd.DataFrame(history.history)\n",
        "hist['epoch'] = history.epoch\n",
        "\n",
        "def plot_loss(history):\n",
        "  plt.plot(history.history['loss'], label='loss')\n",
        "  plt.plot(history.history['val_loss'], label='val_loss')\n",
        "  plt.plot(history.history['val_root_mean_squared_error'], label='val_root_mean_squared_error')\n",
        "  plt.xlabel('Epoch')\n",
        "  plt.ylabel('Error [Price]')\n",
        "  plt.legend()\n",
        "  plt.ylim(0, 3500)\n",
        "  plt.grid(True)\n",
        "  plt.show()\n",
        "\n",
        "plot_loss(history)"
      ],
      "metadata": {
        "colab": {
          "base_uri": "https://localhost:8080/",
          "height": 455
        },
        "id": "huFPUWW3pGOz",
        "outputId": "629e9323-b6b8-4e77-fb4d-1ce571c23c48"
      },
      "execution_count": null,
      "outputs": [
        {
          "output_type": "display_data",
          "data": {
            "text/plain": [
              "<Figure size 640x480 with 1 Axes>"
            ],
            "image/png": "[encoded data removed]"
          },
          "metadata": {}
        }
      ]
    },
    {
      "cell_type": "code",
      "source": [
        "from google.colab import files\n",
        "\n",
        "#saved_model = tf.keras.models.load_model('/content/drive/MyDrive/cars_predict/saved_model_new_tf/my_model')\n",
        "\n",
        "sample = {\n",
        "    'brand': 'Opel',\n",
        "    'model': 'Corsa',\n",
        "    'year': 1999,\n",
        "    'type': 'hatchback',\n",
        "    'color': 'white',\n",
        "    'kms': 7,\n",
        "    'transmission': 0,\n",
        "    '2door': 0,\n",
        "    'displacement': 1400,\n",
        "    'hp': 60,\n",
        "    'premium': 0,\n",
        "    'fuel': 'p'\n",
        "}\n",
        "\n",
        "input_dict = {name: tf.convert_to_tensor([value]) for name, value in sample.items()}\n",
        "predictions = model.predict(input_dict)\n",
        "#pd.options.display.float_format = '{:.15f}'.format\n",
        "print(type(input_dict))\n",
        "print(predictions[0][0])\n"
      ],
      "metadata": {
        "id": "F7W4NheCqhTh",
        "colab": {
          "base_uri": "https://localhost:8080/"
        },
        "outputId": "c8cf219e-ec08-4711-eece-2ffab67637e1"
      },
      "execution_count": null,
      "outputs": [
        {
          "output_type": "stream",
          "name": "stdout",
          "text": [
            "1/1 [==============================] - 1s 965ms/step\n",
            "<class 'dict'>\n",
            "1899.4023\n"
          ]
        }
      ]
    },
    {
      "cell_type": "code",
      "source": [
        "# Save and download model\n",
        "model.save('/content/drive/MyDrive/cars_predict/saved_model_new_tf/my_model')\n",
        "#files.download(\"/content/saved_model\")"
      ],
      "metadata": {
        "id": "Kch_PmLI1msf",
        "colab": {
          "base_uri": "https://localhost:8080/"
        },
        "outputId": "d3a08ba6-8997-407d-c566-d3b7275f62c4"
      },
      "execution_count": null,
      "outputs": [
        {
          "output_type": "stream",
          "name": "stderr",
          "text": [
            "WARNING:absl:Function `_wrapped_model` contains input name(s) 2door with unsupported characters which will be renamed to door in the SavedModel.\n",
            "WARNING:absl:Found untraced functions such as _update_step_xla while saving (showing 1 of 1). These functions will not be directly callable after loading.\n"
          ]
        }
      ]
    }
  ]
}